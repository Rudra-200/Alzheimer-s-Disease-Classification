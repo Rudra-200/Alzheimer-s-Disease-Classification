Copyright (C) <2024>  <Rudra Prasanna Mishra>

    This program is free software: you can redistribute it and/or modify
    it under the terms of the GNU Affero General Public License as published
    by the Free Software Foundation, either version 3 of the License, or
    (at your option) any later version.

    This program is distributed in the hope that it will be useful,
    but WITHOUT ANY WARRANTY; without even the implied warranty of
    MERCHANTABILITY or FITNESS FOR A PARTICULAR PURPOSE.  See the
    GNU Affero General Public License for more details.

    You should have received a copy of the GNU Affero General Public License
    along with this program.  If not, see <https://www.gnu.org/licenses/>

{
 "cells": [
  {
   "cell_type": "code",
   "execution_count": 1,
   "metadata": {},
   "outputs": [
    {
     "name": "stdout",
     "output_type": "stream",
     "text": [
      "Using TensorFlow backend\n"
     ]
    },
    {
     "name": "stderr",
     "output_type": "stream",
     "text": [
      "C:\\Users\\rudra\\AppData\\Local\\Temp\\ipykernel_24116\\675090885.py:6: DeprecationWarning: `import kerastuner` is deprecated, please use `import keras_tuner`.\n",
      "  from kerastuner.tuners import RandomSearch\n"
     ]
    }
   ],
   "source": [
    "import tensorflow as tf\n",
    "from tensorflow.keras.models import Sequential\n",
    "from tensorflow.keras.layers import Conv2D, MaxPooling2D, Flatten, Dense, Dropout, BatchNormalization, LeakyReLU\n",
    "from tensorflow.keras.callbacks import EarlyStopping\n",
    "from tensorflow.keras.preprocessing.image import ImageDataGenerator\n",
    "from kerastuner.tuners import RandomSearch\n",
    "\n",
    "# Set up data directories\n",
    "train_path = \"Dataset/Split/train\"\n",
    "test_path = \"Dataset/Split/test\"\n",
    "val_path = \"Dataset/Split/val\""
   ]
  },
  {
   "cell_type": "code",
   "execution_count": 2,
   "metadata": {},
   "outputs": [],
   "source": [
    "# For example, here's several helpful packages to load\n",
    "import numpy as np # linear algebra\n",
    "import pandas as pd # data processing, CSV file I/O (e.g. pd.read_csv)\n",
    "\n",
    "import cv2\n",
    "import matplotlib.pyplot as plt\n",
    "from sklearn.model_selection import train_test_split\n",
    "import tensorflow as tf\n",
    "from keras.models import Sequential, load_model\n",
    "from keras.callbacks import EarlyStopping, ModelCheckpoint\n",
    "from keras import layers\n",
    "from keras.layers import *\n",
    "from keras.utils import np_utils\n",
    "import sys\n",
    "import gc\n",
    "from tqdm import tqdm\n",
    "# import all the necessary modules\n",
    "import numpy as np\n",
    "import pandas as pd\n",
    "from keras.preprocessing.image import ImageDataGenerator\n",
    "import os\n",
    "import random\n",
    "import cv2\n",
    "import imutils\n",
    "import random\n",
    "import matplotlib.pyplot as plt\n",
    "import seaborn as sns\n",
    "from sklearn.preprocessing import LabelBinarizer\n",
    "from keras.utils import np_utils\n",
    "from keras.models import Sequential\n",
    "from keras import optimizers\n",
    "from sklearn.preprocessing import LabelBinarizer\n",
    "from keras import backend as K\n",
    "from keras.layers import Dense, Activation, Flatten, Dense,MaxPooling2D, Dropout\n",
    "from keras.layers import Conv2D, MaxPooling2D, BatchNormalization\n",
    "from PIL import Image\n",
    "import os, sys\n",
    "import os\n",
    "import os.path\n",
    "from PIL import Image\n",
    "import glob"
   ]
  },
  {
   "cell_type": "code",
   "execution_count": 24,
   "metadata": {},
   "outputs": [],
   "source": [
    "IMAGE_WIDTH = 32\n",
    "IMAGE_HEIGHT = 32\n",
    "IMAGE_SIZE = (IMAGE_WIDTH, IMAGE_HEIGHT)\n",
    "INPUT_SHAPE = (IMAGE_WIDTH, IMAGE_HEIGHT, 3)"
   ]
  },
  {
   "cell_type": "code",
   "execution_count": 25,
   "metadata": {},
   "outputs": [],
   "source": [
    "#Numpy arrays of the images of the training dataset\n",
    "x_train=[]\n",
    "\n",
    "for folder in os.listdir(train_path):\n",
    "\n",
    "    sub_path=train_path+\"/\"+folder\n",
    "\n",
    "    for img in os.listdir(sub_path):\n",
    "\n",
    "        image_path=sub_path+\"/\"+img\n",
    "\n",
    "        img_arr=cv2.imread(image_path)\n",
    "\n",
    "        img_arr=cv2.resize(img_arr,(32,32))\n",
    "\n",
    "        x_train.append(img_arr)"
   ]
  },
  {
   "cell_type": "code",
   "execution_count": 26,
   "metadata": {},
   "outputs": [],
   "source": [
    "x_val=[]\n",
    "\n",
    "for folder in os.listdir(val_path):\n",
    "\n",
    "    sub_path=val_path+\"/\"+folder\n",
    "\n",
    "    for img in os.listdir(sub_path):\n",
    "\n",
    "        image_path=sub_path+\"/\"+img\n",
    "\n",
    "        img_arr=cv2.imread(image_path)\n",
    "\n",
    "        img_arr=cv2.resize(img_arr,(32,32))\n",
    "\n",
    "        x_val.append(img_arr)"
   ]
  },
  {
   "cell_type": "code",
   "execution_count": 27,
   "metadata": {},
   "outputs": [],
   "source": [
    "x_test=[]\n",
    "\n",
    "for folder in os.listdir(test_path):\n",
    "\n",
    "    sub_path=test_path+\"/\"+folder\n",
    "\n",
    "    for img in os.listdir(sub_path):\n",
    "\n",
    "        image_path=sub_path+\"/\"+img\n",
    "\n",
    "        img_arr=cv2.imread(image_path)\n",
    "\n",
    "        img_arr=cv2.resize(img_arr,(32,32))\n",
    "\n",
    "        x_test.append(img_arr)"
   ]
  },
  {
   "cell_type": "code",
   "execution_count": 28,
   "metadata": {},
   "outputs": [],
   "source": [
    "train_x=np.array(x_train)\n",
    "test_x=np.array(x_test)\n",
    "val_x=np.array(x_val)"
   ]
  },
  {
   "cell_type": "code",
   "execution_count": 29,
   "metadata": {},
   "outputs": [],
   "source": [
    "train_x=train_x/255.0\n",
    "test_x=test_x/255.0\n",
    "val_x=val_x/255.0"
   ]
  },
  {
   "cell_type": "code",
   "execution_count": 30,
   "metadata": {},
   "outputs": [
    {
     "name": "stdout",
     "output_type": "stream",
     "text": [
      "Found 5235 images belonging to 5 classes.\n",
      "Found 657 images belonging to 5 classes.\n",
      "Found 653 images belonging to 5 classes.\n"
     ]
    }
   ],
   "source": [
    "train_datagen = ImageDataGenerator(rescale = 1./255,\n",
    "                                shear_range=0.1,\n",
    "                                zoom_range=0.2,\n",
    "                                horizontal_flip=False,\n",
    "                                width_shift_range=0.1,\n",
    "                                height_shift_range=0.1)\n",
    "test_datagen = ImageDataGenerator(rescale = 1./255)\n",
    "val_datagen = ImageDataGenerator(rescale = 1./255,\n",
    "                                shear_range=0.1,\n",
    "                                zoom_range=0.2,\n",
    "                                horizontal_flip=False,\n",
    "                                width_shift_range=0.1,\n",
    "                                height_shift_range=0.1)\n",
    "\n",
    "\n",
    "training_set = train_datagen.flow_from_directory(train_path,\n",
    "                                                 target_size = (32, 32),\n",
    "                                                 batch_size = 32,\n",
    "                                                 class_mode = 'sparse')\n",
    "\n",
    "test_set = test_datagen.flow_from_directory(test_path,\n",
    "                                            target_size = (32, 32),\n",
    "                                            batch_size = 32,\n",
    "                                            class_mode = 'sparse')\n",
    "\n",
    "val_set = val_datagen.flow_from_directory(val_path,\n",
    "                                            target_size = (32, 32),\n",
    "                                            batch_size = 32,\n",
    "                                            class_mode = 'sparse')"
   ]
  },
  {
   "cell_type": "code",
   "execution_count": 31,
   "metadata": {},
   "outputs": [
    {
     "data": {
      "text/plain": [
       "{'Final AD JPEG': 0,\n",
       " 'Final CN': 1,\n",
       " 'Final EMCI': 2,\n",
       " 'Final LMCI': 3,\n",
       " 'Final MCI': 4}"
      ]
     },
     "execution_count": 31,
     "metadata": {},
     "output_type": "execute_result"
    }
   ],
   "source": [
    "# To generate the classes of training dataset\n",
    "training_set.class_indices"
   ]
  },
  {
   "cell_type": "code",
   "execution_count": 32,
   "metadata": {},
   "outputs": [],
   "source": [
    "train_y=training_set.classes\n",
    "test_y=test_set.classes\n",
    "val_y=val_set.classes"
   ]
  },
  {
   "cell_type": "code",
   "execution_count": 33,
   "metadata": {},
   "outputs": [
    {
     "data": {
      "text/plain": [
       "((5235,), (657,), (653,))"
      ]
     },
     "execution_count": 33,
     "metadata": {},
     "output_type": "execute_result"
    }
   ],
   "source": [
    "train_y.shape,test_y.shape,val_y.shape"
   ]
  },
  {
   "cell_type": "code",
   "execution_count": 34,
   "metadata": {},
   "outputs": [],
   "source": [
    "from tensorflow.keras.utils import to_categorical\n",
    "train_y = to_categorical(train_y, 5)\n",
    "test_y = to_categorical(test_y, 5)\n",
    "val_y = to_categorical(val_y, 5)"
   ]
  },
  {
   "cell_type": "code",
   "execution_count": 39,
   "metadata": {},
   "outputs": [],
   "source": [
    "\n",
    "model = Sequential([\n",
    "    Conv2D(32, kernel_size=3, input_shape=INPUT_SHAPE),\n",
    "    LeakyReLU(alpha=0.1),\n",
    "    BatchNormalization(),\n",
    "    Conv2D(64, kernel_size=3),\n",
    "    LeakyReLU(alpha=0.1),\n",
    "    BatchNormalization(),\n",
    "    MaxPooling2D(pool_size=(2, 2)),\n",
    "    Dropout(0.25),\n",
    "    Conv2D(128, kernel_size=3),\n",
    "    LeakyReLU(alpha=0.1),\n",
    "    BatchNormalization(),\n",
    "    Conv2D(128, kernel_size=3),\n",
    "    LeakyReLU(alpha=0.1),\n",
    "    BatchNormalization(),\n",
    "    MaxPooling2D(pool_size=(2, 2)),\n",
    "    Dropout(0.25),\n",
    "    Conv2D(256, kernel_size=3),\n",
    "    LeakyReLU(alpha=0.1),\n",
    "    BatchNormalization(),\n",
    "    Conv2D(256, kernel_size=3),\n",
    "    LeakyReLU(alpha=0.1),\n",
    "    BatchNormalization(),\n",
    "    MaxPooling2D(pool_size=(2, 2)),\n",
    "    Dropout(0.25),\n",
    "    Flatten(),\n",
    "    Dense(512),\n",
    "    LeakyReLU(alpha=0.1),\n",
    "    BatchNormalization(),\n",
    "    Dropout(0.5),\n",
    "    Dense(5, activation='softmax')\n",
    "])\n",
    "\n",
    "\n"
   ]
  },
  {
   "cell_type": "code",
   "execution_count": 40,
   "metadata": {
    "scrolled": true
   },
   "outputs": [
    {
     "name": "stdout",
     "output_type": "stream",
     "text": [
      "Model: \"sequential_2\"\n",
      "_________________________________________________________________\n",
      " Layer (type)                Output Shape              Param #   \n",
      "=================================================================\n",
      " conv2d_14 (Conv2D)          (None, 30, 30, 32)        896       \n",
      "                                                                 \n",
      " batch_normalization_14 (Bat  (None, 30, 30, 32)       128       \n",
      " chNormalization)                                                \n",
      "                                                                 \n",
      " conv2d_15 (Conv2D)          (None, 28, 28, 32)        9248      \n",
      "                                                                 \n",
      " batch_normalization_15 (Bat  (None, 28, 28, 32)       128       \n",
      " chNormalization)                                                \n",
      "                                                                 \n",
      " conv2d_16 (Conv2D)          (None, 14, 14, 32)        25632     \n",
      "                                                                 \n",
      " batch_normalization_16 (Bat  (None, 14, 14, 32)       128       \n",
      " chNormalization)                                                \n",
      "                                                                 \n",
      " dropout_6 (Dropout)         (None, 14, 14, 32)        0         \n",
      "                                                                 \n",
      " conv2d_17 (Conv2D)          (None, 12, 12, 64)        18496     \n",
      "                                                                 \n",
      " batch_normalization_17 (Bat  (None, 12, 12, 64)       256       \n",
      " chNormalization)                                                \n",
      "                                                                 \n",
      " conv2d_18 (Conv2D)          (None, 10, 10, 64)        36928     \n",
      "                                                                 \n",
      " batch_normalization_18 (Bat  (None, 10, 10, 64)       256       \n",
      " chNormalization)                                                \n",
      "                                                                 \n",
      " conv2d_19 (Conv2D)          (None, 5, 5, 64)          102464    \n",
      "                                                                 \n",
      " batch_normalization_19 (Bat  (None, 5, 5, 64)         256       \n",
      " chNormalization)                                                \n",
      "                                                                 \n",
      " dropout_7 (Dropout)         (None, 5, 5, 64)          0         \n",
      "                                                                 \n",
      " conv2d_20 (Conv2D)          (None, 2, 2, 128)         131200    \n",
      "                                                                 \n",
      " batch_normalization_20 (Bat  (None, 2, 2, 128)        512       \n",
      " chNormalization)                                                \n",
      "                                                                 \n",
      " flatten_2 (Flatten)         (None, 512)               0         \n",
      "                                                                 \n",
      " dropout_8 (Dropout)         (None, 512)               0         \n",
      "                                                                 \n",
      " dense_2 (Dense)             (None, 5)                 2565      \n",
      "                                                                 \n",
      "=================================================================\n",
      "Total params: 329,093\n",
      "Trainable params: 328,261\n",
      "Non-trainable params: 832\n",
      "_________________________________________________________________\n"
     ]
    }
   ],
   "source": [
    "model.build(INPUT_SHAPE) # `input_shape` is the shape of the input data\n",
    "                         # e.g. input_shape = (None, 100, 100, 3)\n",
    "model.summary()"
   ]
  },
  {
   "cell_type": "code",
   "execution_count": 41,
   "metadata": {},
   "outputs": [],
   "source": [
    "# COMPILE WITH ADAM OPTIMIZER AND CROSS ENTROPY COST\n",
    "model.compile(loss='CategoricalCrossentropy', optimizer=\"Adam\", metrics=['accuracy'])"
   ]
  },
  {
   "cell_type": "code",
   "execution_count": 42,
   "metadata": {
    "scrolled": true
   },
   "outputs": [
    {
     "name": "stdout",
     "output_type": "stream",
     "text": [
      "Epoch 1/32\n",
      "164/164 [==============================] - 16s 85ms/step - loss: 1.1809 - accuracy: 0.5268 - val_loss: 1.6602 - val_accuracy: 0.1547\n",
      "Epoch 2/32\n",
      "164/164 [==============================] - 14s 85ms/step - loss: 0.8647 - accuracy: 0.6050 - val_loss: 1.3789 - val_accuracy: 0.4135\n",
      "Epoch 3/32\n",
      "164/164 [==============================] - 15s 90ms/step - loss: 0.7487 - accuracy: 0.6600 - val_loss: 0.8409 - val_accuracy: 0.6646\n",
      "Epoch 4/32\n",
      "164/164 [==============================] - 14s 84ms/step - loss: 0.6307 - accuracy: 0.7282 - val_loss: 0.5522 - val_accuracy: 0.7749\n",
      "Epoch 5/32\n",
      "164/164 [==============================] - 14s 87ms/step - loss: 0.5053 - accuracy: 0.7901 - val_loss: 0.3948 - val_accuracy: 0.8270\n",
      "Epoch 6/32\n",
      "164/164 [==============================] - 14s 87ms/step - loss: 0.4252 - accuracy: 0.8231 - val_loss: 0.2945 - val_accuracy: 0.8714\n",
      "Epoch 7/32\n",
      "164/164 [==============================] - 14s 84ms/step - loss: 0.3375 - accuracy: 0.8646 - val_loss: 0.3771 - val_accuracy: 0.8545\n",
      "Epoch 8/32\n",
      "164/164 [==============================] - 14s 85ms/step - loss: 0.2595 - accuracy: 0.9026 - val_loss: 0.1681 - val_accuracy: 0.9372\n",
      "Epoch 9/32\n",
      "164/164 [==============================] - 15s 91ms/step - loss: 0.2371 - accuracy: 0.9102 - val_loss: 0.1567 - val_accuracy: 0.9387\n",
      "Epoch 10/32\n",
      "164/164 [==============================] - 15s 90ms/step - loss: 0.1941 - accuracy: 0.9242 - val_loss: 0.2361 - val_accuracy: 0.9158\n",
      "Epoch 11/32\n",
      "164/164 [==============================] - 14s 86ms/step - loss: 0.1741 - accuracy: 0.9356 - val_loss: 0.1305 - val_accuracy: 0.9571\n",
      "Epoch 12/32\n",
      "164/164 [==============================] - 14s 84ms/step - loss: 0.1520 - accuracy: 0.9448 - val_loss: 0.0813 - val_accuracy: 0.9740\n",
      "Epoch 13/32\n",
      "164/164 [==============================] - 14s 85ms/step - loss: 0.1123 - accuracy: 0.9599 - val_loss: 0.6528 - val_accuracy: 0.8361\n",
      "Epoch 14/32\n",
      "164/164 [==============================] - 14s 84ms/step - loss: 0.1124 - accuracy: 0.9589 - val_loss: 0.0995 - val_accuracy: 0.9663\n",
      "Epoch 15/32\n",
      "164/164 [==============================] - 14s 85ms/step - loss: 0.1287 - accuracy: 0.9503 - val_loss: 0.1502 - val_accuracy: 0.9403\n",
      "Epoch 16/32\n",
      "164/164 [==============================] - 14s 84ms/step - loss: 0.1004 - accuracy: 0.9624 - val_loss: 0.0835 - val_accuracy: 0.9709\n",
      "Epoch 17/32\n",
      "164/164 [==============================] - 14s 87ms/step - loss: 0.0952 - accuracy: 0.9629 - val_loss: 0.0816 - val_accuracy: 0.9648\n",
      "Epoch 18/32\n",
      "164/164 [==============================] - 14s 85ms/step - loss: 0.0822 - accuracy: 0.9719 - val_loss: 0.1478 - val_accuracy: 0.9479\n",
      "Epoch 19/32\n",
      "164/164 [==============================] - 14s 85ms/step - loss: 0.0893 - accuracy: 0.9675 - val_loss: 0.1140 - val_accuracy: 0.9510\n",
      "Epoch 20/32\n",
      "164/164 [==============================] - 14s 85ms/step - loss: 0.0878 - accuracy: 0.9681 - val_loss: 0.0851 - val_accuracy: 0.9678\n",
      "Epoch 21/32\n",
      "164/164 [==============================] - 14s 84ms/step - loss: 0.0771 - accuracy: 0.9717 - val_loss: 0.0843 - val_accuracy: 0.9709\n",
      "Epoch 22/32\n",
      "164/164 [==============================] - 14s 87ms/step - loss: 0.0829 - accuracy: 0.9712 - val_loss: 0.0324 - val_accuracy: 0.9877\n",
      "Epoch 23/32\n",
      "164/164 [==============================] - 14s 87ms/step - loss: 0.0641 - accuracy: 0.9757 - val_loss: 0.0267 - val_accuracy: 0.9893\n",
      "Epoch 24/32\n",
      "164/164 [==============================] - 14s 86ms/step - loss: 0.0753 - accuracy: 0.9727 - val_loss: 0.0584 - val_accuracy: 0.9755\n",
      "Epoch 25/32\n",
      "164/164 [==============================] - 14s 85ms/step - loss: 0.0579 - accuracy: 0.9777 - val_loss: 0.0486 - val_accuracy: 0.9832\n",
      "Epoch 26/32\n",
      "164/164 [==============================] - 14s 84ms/step - loss: 0.0649 - accuracy: 0.9765 - val_loss: 0.0359 - val_accuracy: 0.9877\n",
      "Epoch 27/32\n",
      "164/164 [==============================] - 14s 85ms/step - loss: 0.0588 - accuracy: 0.9784 - val_loss: 0.0640 - val_accuracy: 0.9709\n",
      "Epoch 28/32\n",
      "164/164 [==============================] - 14s 85ms/step - loss: 0.0723 - accuracy: 0.9742 - val_loss: 0.0452 - val_accuracy: 0.9862\n",
      "Epoch 29/32\n",
      "164/164 [==============================] - 14s 85ms/step - loss: 0.0569 - accuracy: 0.9811 - val_loss: 0.0572 - val_accuracy: 0.9832\n",
      "Epoch 30/32\n",
      "164/164 [==============================] - 14s 82ms/step - loss: 0.0445 - accuracy: 0.9830 - val_loss: 0.0346 - val_accuracy: 0.9847\n",
      "Epoch 31/32\n",
      "164/164 [==============================] - 14s 82ms/step - loss: 0.0413 - accuracy: 0.9851 - val_loss: 0.0362 - val_accuracy: 0.9862\n",
      "Epoch 32/32\n",
      "164/164 [==============================] - 15s 93ms/step - loss: 0.0505 - accuracy: 0.9815 - val_loss: 0.0628 - val_accuracy: 0.9786\n",
      "Execution time: 452.38586354255676 sec\n"
     ]
    }
   ],
   "source": [
    "import time\n",
    "start_time = time.time()\n",
    "history = model.fit(train_x,train_y, epochs=32, batch_size=32, validation_data = (val_x, val_y),  verbose=1)\n",
    "print(\"Execution time: \" + str((time.time() - start_time)) + ' sec')"
   ]
  },
  {
   "cell_type": "code",
   "execution_count": 46,
   "metadata": {},
   "outputs": [
    {
     "name": "stdout",
     "output_type": "stream",
     "text": [
      "Found 5235 images belonging to 5 classes.\n",
      "Found 657 images belonging to 5 classes.\n",
      "Found 653 images belonging to 5 classes.\n",
      "Reloading Tuner from hyperparameter_tuning\\brain_mri_classification\\tuner0.json\n",
      "Epoch 1/32\n",
      "164/164 [==============================] - 18s 96ms/step - loss: 1.3509 - accuracy: 0.4640 - val_loss: 2.0586 - val_accuracy: 0.0322\n",
      "Epoch 2/32\n",
      "164/164 [==============================] - 15s 90ms/step - loss: 1.0247 - accuracy: 0.5123 - val_loss: 1.9506 - val_accuracy: 0.2634\n",
      "Epoch 3/32\n",
      "164/164 [==============================] - 14s 88ms/step - loss: 0.9832 - accuracy: 0.5156 - val_loss: 1.3201 - val_accuracy: 0.4962\n",
      "Epoch 4/32\n",
      "164/164 [==============================] - 15s 89ms/step - loss: 0.9362 - accuracy: 0.5387 - val_loss: 0.9526 - val_accuracy: 0.5406\n",
      "Epoch 5/32\n",
      "164/164 [==============================] - 15s 90ms/step - loss: 0.9374 - accuracy: 0.5406 - val_loss: 0.8782 - val_accuracy: 0.5574\n",
      "Epoch 6/32\n",
      "164/164 [==============================] - 15s 90ms/step - loss: 0.9209 - accuracy: 0.5501 - val_loss: 0.9591 - val_accuracy: 0.5345\n",
      "Epoch 7/32\n",
      "164/164 [==============================] - 15s 89ms/step - loss: 0.9063 - accuracy: 0.5461 - val_loss: 0.8971 - val_accuracy: 0.5666\n",
      "Epoch 8/32\n",
      "164/164 [==============================] - 15s 93ms/step - loss: 0.8929 - accuracy: 0.5618 - val_loss: 0.9330 - val_accuracy: 0.5421\n",
      "Epoch 9/32\n",
      "164/164 [==============================] - 15s 94ms/step - loss: 0.8865 - accuracy: 0.5568 - val_loss: 2.6924 - val_accuracy: 0.5161\n",
      "Epoch 10/32\n",
      "164/164 [==============================] - 15s 90ms/step - loss: 0.8862 - accuracy: 0.5677 - val_loss: 1.0695 - val_accuracy: 0.4839\n"
     ]
    }
   ],
   "source": [
    "from tensorflow.keras.callbacks import EarlyStopping\n",
    "from tensorflow.keras.preprocessing.image import ImageDataGenerator\n",
    "from kerastuner.tuners import RandomSearch\n",
    "\n",
    "# Define the data generators\n",
    "train_generator = train_datagen.flow_from_directory(\n",
    "    train_path,\n",
    "    target_size=(IMAGE_WIDTH, IMAGE_HEIGHT),\n",
    "    batch_size=32,\n",
    "    class_mode='sparse',\n",
    "    color_mode='grayscale'  # Load images as grayscale\n",
    ")\n",
    "\n",
    "test_generator = test_datagen.flow_from_directory(\n",
    "    test_path,\n",
    "    target_size=(IMAGE_WIDTH, IMAGE_HEIGHT),\n",
    "    batch_size=32,\n",
    "    class_mode='sparse',\n",
    "    color_mode='grayscale'  # Load images as grayscale\n",
    ")\n",
    "\n",
    "val_generator = val_datagen.flow_from_directory(\n",
    "    val_path,\n",
    "    target_size=(IMAGE_WIDTH, IMAGE_HEIGHT),\n",
    "    batch_size=32,\n",
    "    class_mode='sparse',\n",
    "    color_mode='grayscale'  # Load images as grayscale\n",
    ")\n",
    "\n",
    "# Define the model building function for Keras Tuner\n",
    "def build_model(hp):\n",
    "  \n",
    "    model = Sequential([\n",
    "    Conv2D(32, kernel_size=3, input_shape=INPUT_SHAPE),\n",
    "    LeakyReLU(alpha=0.1),\n",
    "    BatchNormalization(),\n",
    "    Conv2D(64, kernel_size=3),\n",
    "    LeakyReLU(alpha=0.1),\n",
    "    BatchNormalization(),\n",
    "    MaxPooling2D(pool_size=(2, 2)),\n",
    "    Dropout(0.25),\n",
    "    Conv2D(128, kernel_size=3),\n",
    "    LeakyReLU(alpha=0.1),\n",
    "    BatchNormalization(),\n",
    "    Conv2D(128, kernel_size=3),\n",
    "    LeakyReLU(alpha=0.1),\n",
    "    BatchNormalization(),\n",
    "    MaxPooling2D(pool_size=(2, 2)),\n",
    "    Dropout(0.25),\n",
    "    Conv2D(256, kernel_size=3),\n",
    "    LeakyReLU(alpha=0.1),\n",
    "    BatchNormalization(),\n",
    "    Conv2D(256, kernel_size=3),\n",
    "    LeakyReLU(alpha=0.1),\n",
    "    BatchNormalization(),\n",
    "    MaxPooling2D(pool_size=(2, 2)),\n",
    "    Dropout(0.25),\n",
    "    Flatten(),\n",
    "    Dense(512),\n",
    "    LeakyReLU(alpha=0.1),\n",
    "    BatchNormalization(),\n",
    "    Dropout(0.5),\n",
    "    Dense(5, activation='softmax')\n",
    "    ])\n",
    "\n",
    "\n",
    "\n",
    "    \n",
    "    return model\n",
    "\n",
    "# Set up the tuner\n",
    "tuner = RandomSearch(\n",
    "    build_model,\n",
    "    objective='val_accuracy',\n",
    "    max_trials=5,\n",
    "    executions_per_trial=1,\n",
    "    directory='hyperparameter_tuning',\n",
    "    project_name='brain_mri_classification'\n",
    ")\n",
    "\n",
    "# Perform hyperparameter search\n",
    "tuner.search(train_generator,\n",
    "             epochs=10,\n",
    "             validation_data=val_generator,\n",
    "             callbacks=[EarlyStopping(patience=5)])\n",
    "\n",
    "# Get the best hyperparameters\n",
    "best_hps = tuner.get_best_hyperparameters(num_trials=1)[0]\n",
    "\n",
    "# Build the model with the best hyperparameters and train it\n",
    "model = tuner.hypermodel.build(best_hps)\n",
    "history = model.fit(\n",
    "    train_generator,\n",
    "    epochs=32,\n",
    "    validation_data=val_generator,\n",
    "    callbacks=[EarlyStopping(patience=5)]\n",
    ")\n"
   ]
  },
  {
   "cell_type": "code",
   "execution_count": 49,
   "metadata": {},
   "outputs": [
    {
     "name": "stdout",
     "output_type": "stream",
     "text": [
      "21/21 [==============================] - 1s 16ms/step - loss: 0.1071 - accuracy: 0.9650\n"
     ]
    },
    {
     "data": {
      "text/plain": [
       "[0.10714840143918991, 0.9649924039840698]"
      ]
     },
     "execution_count": 49,
     "metadata": {},
     "output_type": "execute_result"
    }
   ],
   "source": [
    "model.evaluate(test_x,test_y,batch_size=32)"
   ]
  },
  {
   "cell_type": "code",
   "execution_count": 48,
   "metadata": {},
   "outputs": [],
   "source": [
    "model=load_model(\"ADNI_BEST_HPO.h5\")"
   ]
  },
  {
   "cell_type": "code",
   "execution_count": 50,
   "metadata": {},
   "outputs": [
    {
     "data": {
      "image/png": "[encoded data removed]",
      "text/plain": [
       "<Figure size 640x480 with 1 Axes>"
      ]
     },
     "metadata": {},
     "output_type": "display_data"
    }
   ],
   "source": [
    "# loss\n",
    "plt.plot(history.history['loss'], label='train loss')\n",
    "plt.plot(history.history['val_loss'], label='val loss')\n",
    "plt.legend()\n",
    "plt.show()"
   ]
  },
  {
   "cell_type": "code",
   "execution_count": 51,
   "metadata": {},
   "outputs": [
    {
     "data": {
      "image/png": "[encoded data removed]",
      "text/plain": [
       "<Figure size 640x480 with 1 Axes>"
      ]
     },
     "metadata": {},
     "output_type": "display_data"
    }
   ],
   "source": [
    "plt.plot(history.history['accuracy'], label='train acc')\n",
    "plt.plot(history.history['val_accuracy'], label='val acc')\n",
    "plt.legend()\n",
    "\n",
    "plt.show()"
   ]
  },
  {
   "cell_type": "code",
   "execution_count": 52,
   "metadata": {},
   "outputs": [],
   "source": [
    "from sklearn.metrics import accuracy_score,classification_report,confusion_matrix\n",
    "import numpy as np"
   ]
  },
  {
   "cell_type": "code",
   "execution_count": 55,
   "metadata": {},
   "outputs": [
    {
     "name": "stdout",
     "output_type": "stream",
     "text": [
      "test data [[[[0.         0.         0.        ]\n",
      "   [0.         0.         0.        ]\n",
      "   [0.         0.         0.        ]\n",
      "   ...\n",
      "   [0.         0.         0.        ]\n",
      "   [0.         0.         0.        ]\n",
      "   [0.         0.         0.        ]]\n",
      "\n",
      "  [[0.         0.         0.        ]\n",
      "   [0.         0.         0.        ]\n",
      "   [0.         0.         0.        ]\n",
      "   ...\n",
      "   [0.         0.         0.        ]\n",
      "   [0.         0.         0.        ]\n",
      "   [0.         0.         0.        ]]\n",
      "\n",
      "  [[0.         0.         0.        ]\n",
      "   [0.         0.         0.        ]\n",
      "   [0.00784314 0.00784314 0.00784314]\n",
      "   ...\n",
      "   [0.00784314 0.00784314 0.00784314]\n",
      "   [0.         0.         0.        ]\n",
      "   [0.         0.         0.        ]]\n",
      "\n",
      "  ...\n",
      "\n",
      "  [[0.         0.         0.        ]\n",
      "   [0.00392157 0.00392157 0.00392157]\n",
      "   [0.00784314 0.00784314 0.00784314]\n",
      "   ...\n",
      "   [0.00784314 0.00784314 0.00784314]\n",
      "   [0.00784314 0.00784314 0.00784314]\n",
      "   [0.         0.         0.        ]]\n",
      "\n",
      "  [[0.         0.         0.        ]\n",
      "   [0.00392157 0.00392157 0.00392157]\n",
      "   [0.00784314 0.00784314 0.00784314]\n",
      "   ...\n",
      "   [0.00784314 0.00784314 0.00784314]\n",
      "   [0.00784314 0.00784314 0.00784314]\n",
      "   [0.         0.         0.        ]]\n",
      "\n",
      "  [[0.         0.         0.        ]\n",
      "   [0.         0.         0.        ]\n",
      "   [0.         0.         0.        ]\n",
      "   ...\n",
      "   [0.         0.         0.        ]\n",
      "   [0.         0.         0.        ]\n",
      "   [0.         0.         0.        ]]]\n",
      "\n",
      "\n",
      " [[[0.         0.         0.        ]\n",
      "   [0.         0.         0.        ]\n",
      "   [0.         0.         0.        ]\n",
      "   ...\n",
      "   [0.         0.         0.        ]\n",
      "   [0.         0.         0.        ]\n",
      "   [0.         0.         0.        ]]\n",
      "\n",
      "  [[0.         0.         0.        ]\n",
      "   [0.         0.         0.        ]\n",
      "   [0.         0.         0.        ]\n",
      "   ...\n",
      "   [0.         0.         0.        ]\n",
      "   [0.         0.         0.        ]\n",
      "   [0.         0.         0.        ]]\n",
      "\n",
      "  [[0.         0.         0.        ]\n",
      "   [0.01568627 0.01568627 0.01568627]\n",
      "   [0.03137255 0.03137255 0.03137255]\n",
      "   ...\n",
      "   [0.03137255 0.03137255 0.03137255]\n",
      "   [0.02352941 0.02352941 0.02352941]\n",
      "   [0.         0.         0.        ]]\n",
      "\n",
      "  ...\n",
      "\n",
      "  [[0.00392157 0.00392157 0.00392157]\n",
      "   [0.03137255 0.03137255 0.03137255]\n",
      "   [0.03137255 0.03137255 0.03137255]\n",
      "   ...\n",
      "   [0.01960784 0.01960784 0.01960784]\n",
      "   [0.03137255 0.03137255 0.03137255]\n",
      "   [0.00392157 0.00392157 0.00392157]]\n",
      "\n",
      "  [[0.         0.         0.        ]\n",
      "   [0.01960784 0.01960784 0.01960784]\n",
      "   [0.02352941 0.02352941 0.02352941]\n",
      "   ...\n",
      "   [0.02352941 0.02352941 0.02352941]\n",
      "   [0.02352941 0.02352941 0.02352941]\n",
      "   [0.         0.         0.        ]]\n",
      "\n",
      "  [[0.         0.         0.        ]\n",
      "   [0.00784314 0.00784314 0.00784314]\n",
      "   [0.00392157 0.00392157 0.00392157]\n",
      "   ...\n",
      "   [0.00392157 0.00392157 0.00392157]\n",
      "   [0.00392157 0.00392157 0.00392157]\n",
      "   [0.         0.         0.        ]]]\n",
      "\n",
      "\n",
      " [[[0.         0.         0.        ]\n",
      "   [0.         0.         0.        ]\n",
      "   [0.         0.         0.        ]\n",
      "   ...\n",
      "   [0.         0.         0.        ]\n",
      "   [0.         0.         0.        ]\n",
      "   [0.         0.         0.        ]]\n",
      "\n",
      "  [[0.         0.         0.        ]\n",
      "   [0.         0.         0.        ]\n",
      "   [0.         0.         0.        ]\n",
      "   ...\n",
      "   [0.         0.         0.        ]\n",
      "   [0.         0.         0.        ]\n",
      "   [0.         0.         0.        ]]\n",
      "\n",
      "  [[0.         0.         0.        ]\n",
      "   [0.         0.         0.        ]\n",
      "   [0.         0.         0.        ]\n",
      "   ...\n",
      "   [0.         0.         0.        ]\n",
      "   [0.         0.         0.        ]\n",
      "   [0.         0.         0.        ]]\n",
      "\n",
      "  ...\n",
      "\n",
      "  [[0.         0.         0.        ]\n",
      "   [0.         0.         0.        ]\n",
      "   [0.         0.         0.        ]\n",
      "   ...\n",
      "   [0.         0.         0.        ]\n",
      "   [0.         0.         0.        ]\n",
      "   [0.         0.         0.        ]]\n",
      "\n",
      "  [[0.         0.         0.        ]\n",
      "   [0.         0.         0.        ]\n",
      "   [0.         0.         0.        ]\n",
      "   ...\n",
      "   [0.         0.         0.        ]\n",
      "   [0.         0.         0.        ]\n",
      "   [0.         0.         0.        ]]\n",
      "\n",
      "  [[0.         0.         0.        ]\n",
      "   [0.         0.         0.        ]\n",
      "   [0.         0.         0.        ]\n",
      "   ...\n",
      "   [0.         0.         0.        ]\n",
      "   [0.         0.         0.        ]\n",
      "   [0.         0.         0.        ]]]\n",
      "\n",
      "\n",
      " ...\n",
      "\n",
      "\n",
      " [[[0.         0.         0.        ]\n",
      "   [0.         0.         0.        ]\n",
      "   [0.         0.         0.        ]\n",
      "   ...\n",
      "   [0.         0.         0.        ]\n",
      "   [0.         0.         0.        ]\n",
      "   [0.         0.         0.        ]]\n",
      "\n",
      "  [[0.         0.         0.        ]\n",
      "   [0.         0.         0.        ]\n",
      "   [0.         0.         0.        ]\n",
      "   ...\n",
      "   [0.         0.         0.        ]\n",
      "   [0.         0.         0.        ]\n",
      "   [0.         0.         0.        ]]\n",
      "\n",
      "  [[0.         0.         0.        ]\n",
      "   [0.         0.         0.        ]\n",
      "   [0.         0.         0.        ]\n",
      "   ...\n",
      "   [0.         0.         0.        ]\n",
      "   [0.         0.         0.        ]\n",
      "   [0.         0.         0.        ]]\n",
      "\n",
      "  ...\n",
      "\n",
      "  [[0.         0.         0.        ]\n",
      "   [0.         0.         0.        ]\n",
      "   [0.         0.         0.        ]\n",
      "   ...\n",
      "   [0.         0.         0.        ]\n",
      "   [0.         0.         0.        ]\n",
      "   [0.         0.         0.        ]]\n",
      "\n",
      "  [[0.         0.         0.        ]\n",
      "   [0.         0.         0.        ]\n",
      "   [0.         0.         0.        ]\n",
      "   ...\n",
      "   [0.         0.         0.        ]\n",
      "   [0.         0.         0.        ]\n",
      "   [0.         0.         0.        ]]\n",
      "\n",
      "  [[0.         0.         0.        ]\n",
      "   [0.         0.         0.        ]\n",
      "   [0.         0.         0.        ]\n",
      "   ...\n",
      "   [0.         0.         0.        ]\n",
      "   [0.         0.         0.        ]\n",
      "   [0.         0.         0.        ]]]\n",
      "\n",
      "\n",
      " [[[0.         0.         0.        ]\n",
      "   [0.         0.         0.        ]\n",
      "   [0.         0.         0.        ]\n",
      "   ...\n",
      "   [0.         0.         0.        ]\n",
      "   [0.         0.         0.        ]\n",
      "   [0.         0.         0.        ]]\n",
      "\n",
      "  [[0.         0.         0.        ]\n",
      "   [0.         0.         0.        ]\n",
      "   [0.         0.         0.        ]\n",
      "   ...\n",
      "   [0.         0.         0.        ]\n",
      "   [0.         0.         0.        ]\n",
      "   [0.         0.         0.        ]]\n",
      "\n",
      "  [[0.         0.         0.        ]\n",
      "   [0.         0.         0.        ]\n",
      "   [0.         0.         0.        ]\n",
      "   ...\n",
      "   [0.         0.         0.        ]\n",
      "   [0.         0.         0.        ]\n",
      "   [0.         0.         0.        ]]\n",
      "\n",
      "  ...\n",
      "\n",
      "  [[0.         0.         0.        ]\n",
      "   [0.         0.         0.        ]\n",
      "   [0.         0.         0.        ]\n",
      "   ...\n",
      "   [0.         0.         0.        ]\n",
      "   [0.         0.         0.        ]\n",
      "   [0.         0.         0.        ]]\n",
      "\n",
      "  [[0.         0.         0.        ]\n",
      "   [0.         0.         0.        ]\n",
      "   [0.         0.         0.        ]\n",
      "   ...\n",
      "   [0.         0.         0.        ]\n",
      "   [0.         0.         0.        ]\n",
      "   [0.         0.         0.        ]]\n",
      "\n",
      "  [[0.         0.         0.        ]\n",
      "   [0.         0.         0.        ]\n",
      "   [0.         0.         0.        ]\n",
      "   ...\n",
      "   [0.         0.         0.        ]\n",
      "   [0.         0.         0.        ]\n",
      "   [0.         0.         0.        ]]]\n",
      "\n",
      "\n",
      " [[[0.         0.         0.        ]\n",
      "   [0.         0.         0.        ]\n",
      "   [0.         0.         0.        ]\n",
      "   ...\n",
      "   [0.         0.         0.        ]\n",
      "   [0.         0.         0.        ]\n",
      "   [0.         0.         0.        ]]\n",
      "\n",
      "  [[0.         0.         0.        ]\n",
      "   [0.         0.         0.        ]\n",
      "   [0.         0.         0.        ]\n",
      "   ...\n",
      "   [0.         0.         0.        ]\n",
      "   [0.         0.         0.        ]\n",
      "   [0.         0.         0.        ]]\n",
      "\n",
      "  [[0.         0.         0.        ]\n",
      "   [0.         0.         0.        ]\n",
      "   [0.         0.         0.        ]\n",
      "   ...\n",
      "   [0.         0.         0.        ]\n",
      "   [0.         0.         0.        ]\n",
      "   [0.         0.         0.        ]]\n",
      "\n",
      "  ...\n",
      "\n",
      "  [[0.         0.         0.        ]\n",
      "   [0.         0.         0.        ]\n",
      "   [0.         0.         0.        ]\n",
      "   ...\n",
      "   [0.         0.         0.        ]\n",
      "   [0.         0.         0.        ]\n",
      "   [0.         0.         0.        ]]\n",
      "\n",
      "  [[0.         0.         0.        ]\n",
      "   [0.         0.         0.        ]\n",
      "   [0.         0.         0.        ]\n",
      "   ...\n",
      "   [0.         0.         0.        ]\n",
      "   [0.         0.         0.        ]\n",
      "   [0.         0.         0.        ]]\n",
      "\n",
      "  [[0.         0.         0.        ]\n",
      "   [0.         0.         0.        ]\n",
      "   [0.         0.         0.        ]\n",
      "   ...\n",
      "   [0.         0.         0.        ]\n",
      "   [0.         0.         0.        ]\n",
      "   [0.         0.         0.        ]]]]\n"
     ]
    },
    {
     "name": "stdout",
     "output_type": "stream",
     "text": [
      "21/21 [==============================] - 0s 17ms/step\n",
      "rounded test_labels [[1. 0. 0. 0. 0.]\n",
      " [1. 0. 0. 0. 0.]\n",
      " [1. 0. 0. 0. 0.]\n",
      " ...\n",
      " [0. 0. 0. 0. 1.]\n",
      " [0. 0. 0. 0. 1.]\n",
      " [0. 0. 0. 0. 1.]]\n"
     ]
    }
   ],
   "source": [
    "#Classification metrics and confussion matrix\n",
    "print('test data', test_x)\n",
    "preds = np.round(model.predict(test_x),0)\n",
    "#to fit them into classification metrics and confusion metrics, some additional modificaitions are required\n",
    "print('rounded test_labels', preds)"
   ]
  },
  {
   "cell_type": "code",
   "execution_count": 56,
   "metadata": {},
   "outputs": [
    {
     "name": "stdout",
     "output_type": "stream",
     "text": [
      "              precision    recall  f1-score   support\n",
      "\n",
      "          AD       1.00      1.00      1.00        15\n",
      "          CN       0.95      0.98      0.97       320\n",
      "        EMCI       0.97      0.94      0.95       224\n",
      "        LMCI       1.00      1.00      1.00         7\n",
      "         MCI       0.99      0.96      0.97        91\n",
      "\n",
      "   micro avg       0.96      0.96      0.96       657\n",
      "   macro avg       0.98      0.98      0.98       657\n",
      "weighted avg       0.97      0.96      0.96       657\n",
      " samples avg       0.96      0.96      0.96       657\n",
      "\n"
     ]
    }
   ],
   "source": [
    "from sklearn import metrics\n",
    "from sklearn.metrics import confusion_matrix\n",
    "stages = ['AD','CN','EMCI',\"LMCI\",'MCI']\n",
    "classification_metrics = metrics.classification_report(test_y, preds, target_names=stages )\n",
    "print(classification_metrics)"
   ]
  },
  {
   "cell_type": "code",
   "execution_count": 57,
   "metadata": {},
   "outputs": [
    {
     "data": {
      "image/png": "[encoded data removed]",
      "text/plain": [
       "<Figure size 500x500 with 1 Axes>"
      ]
     },
     "metadata": {},
     "output_type": "display_data"
    },
    {
     "data": {
      "image/png": "[encoded data removed]",
      "text/plain": [
       "<Figure size 500x500 with 1 Axes>"
      ]
     },
     "metadata": {},
     "output_type": "display_data"
    },
    {
     "data": {
      "image/png": "[encoded data removed]",
      "text/plain": [
       "<Figure size 500x500 with 1 Axes>"
      ]
     },
     "metadata": {},
     "output_type": "display_data"
    },
    {
     "data": {
      "image/png": "[encoded data removed]",
      "text/plain": [
       "<Figure size 500x500 with 1 Axes>"
      ]
     },
     "metadata": {},
     "output_type": "display_data"
    },
    {
     "data": {
      "image/png": "[encoded data removed]",
      "text/plain": [
       "<Figure size 500x500 with 1 Axes>"
      ]
     },
     "metadata": {},
     "output_type": "display_data"
    }
   ],
   "source": [
    "from sklearn.metrics import multilabel_confusion_matrix\n",
    "\n",
    "# Assuming you have the true labels in test_y and predicted labels in preds\n",
    "# and classes is the list of class labels\n",
    "confusion_matrices = multilabel_confusion_matrix(test_y, preds)\n",
    "\n",
    "# Create a DataFrame for the confusion matrices\n",
    "for i, class_name in enumerate(stages):\n",
    "    confusion_df = pd.DataFrame(confusion_matrices[i], index=[0, 1], columns=[0, 1])\n",
    "\n",
    "    # Set up subplots\n",
    "    fig, ax = plt.subplots(figsize=(5, 5))\n",
    "    sns.heatmap(confusion_df, annot=True, fmt=\"d\", cbar=False,\n",
    "                xticklabels=[0, 1], yticklabels=[0, 1])\n",
    "\n",
    "    ax.set_title(f'Confusion Matrix for Class {class_name}')\n",
    "    ax.set_xlabel('Predicted')\n",
    "    ax.set_ylabel('True')\n",
    "\n",
    "    plt.show()\n"
   ]
  },
  {
   "cell_type": "code",
   "execution_count": 62,
   "metadata": {},
   "outputs": [
    {
     "data": {
      "image/png": "[encoded data removed]",
      "text/plain": [
       "<Figure size 1000x800 with 2 Axes>"
      ]
     },
     "metadata": {},
     "output_type": "display_data"
    },
    {
     "name": "stdout",
     "output_type": "stream",
     "text": [
      "\n",
      "Classification Report:\n",
      "               precision    recall  f1-score   support\n",
      "\n",
      "    Final AD       1.00      1.00      1.00        15\n",
      "    Final CN       0.95      0.98      0.97       320\n",
      "  Final EMCI       0.97      0.94      0.95       224\n",
      "  Final LMCI       1.00      1.00      1.00         7\n",
      "   Final MCI       0.99      0.96      0.97        91\n",
      "\n",
      "    accuracy                           0.96       657\n",
      "   macro avg       0.98      0.98      0.98       657\n",
      "weighted avg       0.97      0.96      0.96       657\n",
      "\n"
     ]
    }
   ],
   "source": [
    "import numpy as np\n",
    "import seaborn as sns\n",
    "import matplotlib.pyplot as plt\n",
    "from sklearn.metrics import confusion_matrix, classification_report\n",
    "\n",
    "# Convert one-hot encoded labels back to class labels\n",
    "true_labels = np.argmax(test_y, axis=1)\n",
    "predicted_labels = np.argmax(preds, axis=1)\n",
    "\n",
    "# Define class labels\n",
    "class_labels = {\n",
    "    0: 'Final AD',\n",
    "    1: 'Final CN',\n",
    "    2: 'Final EMCI',\n",
    "    3: 'Final LMCI',\n",
    "    4: 'Final MCI'\n",
    "}\n",
    "\n",
    "# Compute the confusion matrix\n",
    "cm = confusion_matrix(true_labels, predicted_labels)\n",
    "\n",
    "# Plot the confusion matrix\n",
    "plt.figure(figsize=(10, 8))\n",
    "sns.heatmap(cm, annot=True, fmt='d', cmap='Blues', xticklabels=class_labels.values(), yticklabels=class_labels.values())\n",
    "plt.xlabel('Predicted Labels')\n",
    "plt.ylabel('True Labels')\n",
    "plt.title('Confusion Matrix')\n",
    "plt.show()\n",
    "\n",
    "# Print the classification report\n",
    "print(\"\\nClassification Report:\\n\", classification_report(true_labels, predicted_labels, target_names=list(class_labels.values()), labels=list(class_labels.keys())))\n"
   ]
  },
  {
   "cell_type": "code",
   "execution_count": 59,
   "metadata": {},
   "outputs": [
    {
     "name": "stdout",
     "output_type": "stream",
     "text": [
      "model saved!!!\n"
     ]
    }
   ],
   "source": [
    "#Saving the model\n",
    "model.save(\"ADNI_BEST_HPO.h5\") #using h5 extension\n",
    "print(\"model saved!!!\")"
   ]
  },
  {
   "cell_type": "code",
   "execution_count": null,
   "metadata": {},
   "outputs": [],
   "source": []
  },
  {
   "cell_type": "code",
   "execution_count": null,
   "metadata": {},
   "outputs": [],
   "source": []
  }
 ],
 "metadata": {
  "kernelspec": {
   "display_name": "Python 3 (ipykernel)",
   "language": "python",
   "name": "python3"
  },
  "language_info": {
   "codemirror_mode": {
    "name": "ipython",
    "version": 3
   },
   "file_extension": ".py",
   "mimetype": "text/x-python",
   "name": "python",
   "nbconvert_exporter": "python",
   "pygments_lexer": "ipython3",
   "version": "3.11.1"
  }
 },
 "nbformat": 4,
 "nbformat_minor": 2
}
